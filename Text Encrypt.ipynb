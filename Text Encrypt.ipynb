{
  "nbformat": 4,
  "nbformat_minor": 0,
  "metadata": {
    "colab": {
      "name": "AI Lab Final Qs-1.ipynb",
      "provenance": [],
      "collapsed_sections": []
    },
    "kernelspec": {
      "name": "python3",
      "display_name": "Python 3"
    },
    "language_info": {
      "name": "python"
    }
  },
  "cells": [
    {
      "cell_type": "code",
      "metadata": {
        "colab": {
          "base_uri": "https://localhost:8080/"
        },
        "id": "yKTOd_CCHwcK",
        "outputId": "1dc62246-5ba1-4780-e780-12b401b1b77a"
      },
      "source": [
        "def encryption(string, shift):\n",
        "\n",
        "  cipher_text = ''\n",
        "\n",
        "  for alphabet in string: \n",
        "    if alphabet == ' ':\n",
        "      cipher_text = cipher_text + alphabet\n",
        "    elif  alphabet.isupper():\n",
        "      cipher_text = cipher_text + chr((ord(alphabet) + shift - 65) % 26 + 65)\n",
        "    else:\n",
        "      cipher_text = cipher_text + chr((ord(alphabet) + shift - 97) % 26 + 97)\n",
        "  \n",
        "  return cipher_text\n",
        " \n",
        "text_message = input(\"Enter Plain Text Here: \")\n",
        "shifting_number = int(input(\"Enter Number You Want to Shift: \"))\n",
        "print(\"\\nYour Plain Text: \", text_message)\n",
        "print(\"Encrypted Text: \", encryption(text_message, shifting_number))"
      ],
      "execution_count": null,
      "outputs": [
        {
          "output_type": "stream",
          "text": [
            "Enter Plain Text Here: life is beautyful\n",
            "Enter Number You Want to Shift: 3\n",
            "\n",
            "Your Plain Text:  life is beautyful\n",
            "Encrypted Text:  olih lv ehdxwbixo\n"
          ],
          "name": "stdout"
        }
      ]
    }
  ]
}